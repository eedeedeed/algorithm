{
 "cells": [
  {
   "cell_type": "markdown",
   "metadata": {},
   "source": [
    "# STACK"
   ]
  },
  {
   "cell_type": "markdown",
   "metadata": {},
   "source": [
    "## 스택 연산"
   ]
  },
  {
   "cell_type": "code",
   "execution_count": 2,
   "metadata": {},
   "outputs": [],
   "source": [
    "# 스택을 위한 데이터\n",
    "capacity = 10\n",
    "array = [None]*capacity\n",
    "top = 1"
   ]
  },
  {
   "cell_type": "code",
   "execution_count": 3,
   "metadata": {},
   "outputs": [],
   "source": [
    "# 스택의 공백 상태와 포화 상태 검사\n",
    "def isEmpty():\n",
    "    if top == -1 : return True\n",
    "    else : return false\n",
    "\n",
    "def isFull() : return top ==capacity-1"
   ]
  },
  {
   "cell_type": "code",
   "execution_count": 4,
   "metadata": {},
   "outputs": [],
   "source": [
    "# 스택 삽입 연산\n",
    "def push(e):\n",
    "    if not isFull():\n",
    "        top += 1\n",
    "        array[top]= e\n",
    "    else :\n",
    "        print('stack overflow')\n",
    "        exit()"
   ]
  },
  {
   "cell_type": "code",
   "execution_count": 5,
   "metadata": {},
   "outputs": [],
   "source": [
    "# 스택 삭제 연산\n",
    "def pop():\n",
    "    if not isEmpty():\n",
    "        top-= 1\n",
    "        return array[top+1]\n",
    "    else: \n",
    "        print('stack underflow')\n",
    "        exit()"
   ]
  },
  {
   "cell_type": "markdown",
   "metadata": {},
   "source": [
    "##### 오류상황에 대한 처리\n",
    "- 가장 좋은 방법은 오류 상황이 발생하지 않도록 미리 처리하는 것\n",
    "    - 웹 브라우저에서 시작 페이지에서는 이전 페이지 버튼을 활성화시키는 등\n",
    "- 그래도 발생 시?\n",
    "    - 예외 처리(exception handling) 기법 사용"
   ]
  },
  {
   "cell_type": "code",
   "execution_count": 6,
   "metadata": {},
   "outputs": [],
   "source": [
    "# 상단 요소 보기\n",
    "def peek():\n",
    "    if not isEmpty():\n",
    "        return array[top]\n",
    "    else : pass"
   ]
  },
  {
   "cell_type": "code",
   "execution_count": 7,
   "metadata": {},
   "outputs": [],
   "source": [
    "# 스택 size 연산\n",
    "def size() : return top +1"
   ]
  },
  {
   "cell_type": "markdown",
   "metadata": {},
   "source": [
    "##### stack 구현의 문제점\n",
    "1. push() 와 pop() 에서 오류가 발생하는 것\n",
    "-> top을 전역 변수로 인식하지 못해 생기는 문제 \n",
    "-> top을 전역 변수로 선언하는 global top 문장을 각 함수에 추가하여 해결\n",
    "2. 여러 개의 스택이 동시에 필요한 문제에 사용할 수 없다.\n",
    "-> 전역 변수로 선언된 배열이 하나이므로 이 코드는 하나의 스택이 필요한 경우에만 사용할 수 있다."
   ]
  },
  {
   "cell_type": "markdown",
   "metadata": {},
   "source": [
    "## 스택을 클래스로 구현\n",
    "1. 자료구조는 함수를 기반으로 하는 절차적 프로그래밍 보다, 클래스를 기반으로 하는 객체 지향 프로그래밍 기법을 이용해 구현하는 것이 훨씬 좋다.\n",
    "2. 자료구조의 추상 자료형이 클래스의 개념과 정확히 일치하기 때문."
   ]
  },
  {
   "cell_type": "markdown",
   "metadata": {},
   "source": [
    "##### 클래스\n",
    "- 클래스는 데이터와 함수를 묶는 하나의 틀\n",
    "- 멤버 변수 : 클래스에 포함된 데이터\n",
    "- 멤버 함수, 메서드 : 함수\n",
    "- 객체 : 클래스의 사례 (인스턴스, instance)\n",
    "- 클래스는 자료형, 객체는 자료형의 변수에 해당"
   ]
  },
  {
   "cell_type": "code",
   "execution_count": 12,
   "metadata": {},
   "outputs": [],
   "source": [
    "# 스택 클래스의 정의와 생성자 함수\n",
    "\n",
    "class ArrayStack : #클래스 이름\n",
    "    def __init__(self, capacity): #stack의 생성자\n",
    "        self.capacity = capacity\n",
    "        self.array = [None]*capacity\n",
    "        self.top = -1\n",
    "    # 스택 클래스의 연산\n",
    "    def isEmpty(self) : return self.top == -1\n",
    "    def isFull(self) : return self.top == self.capacity -1\n",
    "\n",
    "    def push(self,item):\n",
    "        if not self.isFull():\n",
    "            self.top += 1\n",
    "            self.array[self.top] = item\n",
    "        else : pass  #overflow 예외는 처리하지 않았음.\n",
    "        \n",
    "    def pop(self):\n",
    "        if not self.isEmpty():\n",
    "            self.top -= 1\n",
    "            return self.array[self.top+1]\n",
    "        else : pass #underflow 예외는 처리하지 않았음.\n",
    "        \n",
    "    def peek(self):\n",
    "        if not self.isEmpty():\n",
    "            return self.array[self.top]\n",
    "        else : pass #underflow 예외는 처리하지 않았음.\n",
    "\n",
    "    def size(): return top +1"
   ]
  },
  {
   "cell_type": "markdown",
   "metadata": {},
   "source": [
    "파이썬에서는 생성자를 포함한 클래스의 모든 멤버함수(메서드)의 첫번째 매개변수로 스택 객체 자신을 나타내는 'self'를 넣기로 약속되어 있다."
   ]
  },
  {
   "cell_type": "code",
   "execution_count": 27,
   "metadata": {},
   "outputs": [],
   "source": [
    "s1 = ArrayStack(20) #용량이 20인 ArrayStack 객체 s1 생성\n",
    "s2 = ArrayStack(100) #용량이 100인 ArrayStack 객체 s2 생성"
   ]
  },
  {
   "cell_type": "markdown",
   "metadata": {},
   "source": [
    "### 말을 거꾸로 뒤집는 프로그램"
   ]
  },
  {
   "cell_type": "code",
   "execution_count": 28,
   "metadata": {},
   "outputs": [
    {
     "name": "stdout",
     "output_type": "stream",
     "text": [
      "문자열 출력 : 요세하녕안\n"
     ]
    }
   ],
   "source": [
    "# 문자열 역순 출력 프로그램\n",
    "\n",
    "s = ArrayStack(100)\n",
    "\n",
    "msg = input('문자열 입력 : ')\n",
    "for c in msg:\n",
    "    s.push(c) #스택에 삽입\n",
    "    \n",
    "print('문자열 출력 : ', end ='')\n",
    "\n",
    "while not s.isEmpty():\n",
    "    print(s.pop(), end='')\n",
    "print()"
   ]
  },
  {
   "cell_type": "markdown",
   "metadata": {},
   "source": [
    "## 스택의 응용 : 괄호검사"
   ]
  },
  {
   "cell_type": "markdown",
   "metadata": {},
   "source": [
    "#### 괄호 검사 문제\n",
    "소스코드나 주어진 문자열에서 괄호들이 올바르게 사용되었는지를 검사하는 문제\n",
    "\n",
    "- 올바른 괄호 사용을 위한 조건\n",
    "1. 왼쪽 괄호의 개수와 오른쪽 괄호의 개수가 같아야 한다.\n",
    "2. 같은 종류인 경우 왼쪽 괄호가 오른쪽보다 먼저 나와야 한다.\n",
    "3. 다른 종류의 괄호 쌍이 서로 교차하면 안 된다."
   ]
  },
  {
   "cell_type": "markdown",
   "metadata": {},
   "source": [
    "#### 괄호 검사 알고리즘\n",
    "1. 빈 스택 준비\n",
    "2. 입력된 문자를 하나씩 읽어 왼쪽 괄호를 만나면 스택에 삽입\n",
    "3. 오른쪽 괄호를 만나면 가장 최근에 삽입된 괄호를 스택에서 꺼냅니다.  \n",
    "이때 스택이 비었다면 오른쪽 괄호가 먼저 나온 상황이므로 조건2에 위배됨.     \n",
    "꺼낸 괄호가 오른쪽 괄호와 짝이 맞지 않으면 조건 3에 위배    \n",
    "4. 입력 문자열을 끝까지 처리했는데 스택에 괄호가 남아 있으면 괄호의 개수가 같지 않으므로\n",
    "조건1에 위배됨. \n",
    "\n",
    "모든 문자를 처리하고 스택이 공백 상태이면 검사 성공"
   ]
  },
  {
   "cell_type": "code",
   "execution_count": 11,
   "metadata": {},
   "outputs": [],
   "source": [
    "# 괄호 검사 프로그램\n",
    "\n",
    "def checkBrackets(statement):\n",
    "    stack = ArrayStack(100)\n",
    "    for ch in statement:\n",
    "        if ch in ('{', '[', '('):\n",
    "            stack.push(ch)\n",
    "        elif ch in ('}',']',')'):\n",
    "            if stack.isEmpty():\n",
    "                return False\n",
    "            else:\n",
    "                left = stack.pop()\n",
    "                if (ch=='}' and left != \"{\") or \\\n",
    "                    (ch==']' and left != \"[\") or \\\n",
    "                        (ch== ')' and left != '(') :\n",
    "                            return False\n",
    "    return stack.isEmpty()"
   ]
  },
  {
   "cell_type": "code",
   "execution_count": 13,
   "metadata": {},
   "outputs": [
    {
     "data": {
      "text/plain": [
       "False"
      ]
     },
     "execution_count": 13,
     "metadata": {},
     "output_type": "execute_result"
    }
   ],
   "source": [
    "checkBrackets('안녕하세요 제 [이름]은 (임수현입니다.')"
   ]
  },
  {
   "cell_type": "markdown",
   "metadata": {},
   "source": [
    "## 파이썬에서 스택 사용하기"
   ]
  },
  {
   "cell_type": "markdown",
   "metadata": {},
   "source": [
    "##### '리스트'를 스택처럼 사용\n",
    "- 파이썬 리스트를 스택으로 사용한다.    \n",
    "파이썬의 리스트 뒤쪽을 스택의 상단으로 사용하는 것이 효율적.    \n",
    "-\n",
    "- 삽입 : push(e) -> L.append(e)\n",
    "- 삭제 : pop() -> L.pop()\n",
    "- 요소의 수 : size() -> len(L)\n",
    "- 공백 검사 : isEmpty() -> len(L)==0\n",
    "- 포화 검사 : isFull() -> list는 용량이 무한대라 포화상태는 의미X, 항상 False\n",
    "- 상단 들여다보기 : peek() -> L[len(L)-1] 또는 L[-1]"
   ]
  },
  {
   "cell_type": "code",
   "execution_count": 15,
   "metadata": {},
   "outputs": [
    {
     "name": "stdout",
     "output_type": "stream",
     "text": [
      "문자열 출력 : 럼처택스 를트스리\n"
     ]
    }
   ],
   "source": [
    "# 문자열 역순 출력(파이썬 리스트 이용)\n",
    "\n",
    "s= list()\n",
    "msg = input('문자열 입력 :' )\n",
    "for c in msg:\n",
    "    s.append(c)\n",
    "    \n",
    "print('문자열 출력 : ', end='')\n",
    "while len(s)>0:\n",
    "    print(s.pop(), end='')\n",
    "\n",
    "print()"
   ]
  },
  {
   "cell_type": "markdown",
   "metadata": {},
   "source": [
    "##### 'LifeQueue'를 스택처럼 사용\n",
    "- 파이썬에서는 queue 모듈(Module)에서 큐(Queue)나 스택(LifeQueue),우선순위(PriorityQueue) 등을 클래스로 제공해준다.\n",
    "- import 필요!"
   ]
  },
  {
   "cell_type": "code",
   "execution_count": 16,
   "metadata": {},
   "outputs": [],
   "source": [
    "import queue\n",
    "\n",
    "s = queue.LifoQueue(maxsize=20) #maxsize=0은 무한대이며 peek() 연산은 제공하지 않는다."
   ]
  },
  {
   "cell_type": "markdown",
   "metadata": {},
   "source": [
    "- 삽입/삭제 : push(),pop() // put(),get()\n",
    "- 공백/포화 검사 : isEmpty(), isFull() // empty(),full()\n",
    "- 상단 들여다보기 : peek() // 제공X"
   ]
  },
  {
   "cell_type": "code",
   "execution_count": 17,
   "metadata": {},
   "outputs": [
    {
     "name": "stdout",
     "output_type": "stream",
     "text": [
      "문자열 출력 : !다한신대 을택스 로eueuqefil\n"
     ]
    }
   ],
   "source": [
    "# 문자열 역순 출력(LifeQueue 이용)\n",
    "\n",
    "s = queue.LifoQueue(maxsize=100)\n",
    "\n",
    "msg = input('문자열 입력 : ')\n",
    "for c in msg :\n",
    "    s.put(c)\n",
    "    \n",
    "print('문자열 출력 : ', end='')\n",
    "while not s.empty():\n",
    "    print(s.get(), end='')\n",
    "print()"
   ]
  },
  {
   "cell_type": "markdown",
   "metadata": {},
   "source": [
    "## 시스템 스택과 순환 호출"
   ]
  },
  {
   "cell_type": "markdown",
   "metadata": {},
   "source": [
    "1. 함수의 호출과 반환을 위해 '시스템 스택'이 사용된다.\n",
    "2. 시스템 스택을 적극적으로 사용하는 '순환' -> 같은 일을 반복하는 for,while문(반복)과 같이 순환(재귀)호출로도 가능.\n",
    "3. 순환 : 함수가 자기 자신을 다시 호출하여 문제를 해결하는 프로그래밍 기법\n",
    "- 문제해결을 위한 독특한 구조를 제공\n",
    "- 많은 효율적인 알고리즘에서 사용됨."
   ]
  },
  {
   "cell_type": "markdown",
   "metadata": {},
   "source": [
    "#### 팩토리얼 함수"
   ]
  },
  {
   "cell_type": "code",
   "execution_count": 18,
   "metadata": {},
   "outputs": [],
   "source": [
    "# 반복 구조의 팩토리얼 함수\n",
    "def factorial_iter(n):\n",
    "    result = 1\n",
    "    for k in range(2,n+1):\n",
    "        result = result * k\n",
    "    return result"
   ]
  },
  {
   "cell_type": "code",
   "execution_count": 19,
   "metadata": {},
   "outputs": [],
   "source": [
    "# 순환 구조의 팩토리얼 함수\n",
    "def factorial(n):\n",
    "    if n==1:\n",
    "        return 1\n",
    "    else:\n",
    "        return n * factorial(n-1)"
   ]
  },
  {
   "cell_type": "markdown",
   "metadata": {},
   "source": [
    "- 순환적으로 호출하는 부분에서는 호출할수록 문제의 크기가 반드시 작아져야 한다.\n",
    "- 순환 호출을 멈추는 부분이 반드시 있어야 한다."
   ]
  },
  {
   "cell_type": "markdown",
   "metadata": {},
   "source": [
    "##### 순환과 반복\n",
    "\n",
    "순환과 반복에서의 곱셈 연산의 횟수는 차이가 없다.   \n",
    "순환은 함수 호출에 의한 부담이 있고 시스템 스택을 많이 사용하기 때문에 대부분의 반복보다 느림.  \n",
    "반복 함수 -> n이 매우 크더라도 추가적인 메모리 필요 없이 계산\n",
    "순환 -> 시스템 스택을 많이 이용하는 계산\n",
    "/\n",
    "트리와 같은 특정 문제에 대해 반복보다 훨씬 명확하고 간결한 코딩이 가능한 '순환'\n",
    "이진 탐색, 퀵 정렬 등과 같은 효율적이고 유명한 알고리즘에서 흔히 사용된다."
   ]
  },
  {
   "cell_type": "markdown",
   "metadata": {},
   "source": [
    "#### 하노이의 탑"
   ]
  },
  {
   "cell_type": "code",
   "execution_count": 20,
   "metadata": {},
   "outputs": [],
   "source": [
    "# 하노이의 탑\n",
    "def hanoi_tower(n, fr, temp, to) : \n",
    "    # n:원판개수, fr:시작막대, temp:임시막대, to:목표막대\n",
    "    if(n==1):\n",
    "        print('원판 1 : %s --> %s' % (fr,to))\n",
    "    else:\n",
    "        hanoi_tower(n-1,fr,to,temp)\n",
    "        print('원판 %d: %s --> %s' % (n,fr,to))\n",
    "        hanoi_tower(n-1, temp, fr, to)"
   ]
  }
 ],
 "metadata": {
  "kernelspec": {
   "display_name": "base",
   "language": "python",
   "name": "python3"
  },
  "language_info": {
   "codemirror_mode": {
    "name": "ipython",
    "version": 3
   },
   "file_extension": ".py",
   "mimetype": "text/x-python",
   "name": "python",
   "nbconvert_exporter": "python",
   "pygments_lexer": "ipython3",
   "version": "3.11.7"
  }
 },
 "nbformat": 4,
 "nbformat_minor": 2
}
